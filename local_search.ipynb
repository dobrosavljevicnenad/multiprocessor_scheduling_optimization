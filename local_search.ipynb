{
 "cells": [
  {
   "cell_type": "code",
   "execution_count": 19,
   "id": "b69d3971-6bcb-4dab-86e8-488e6f62a29c",
   "metadata": {},
   "outputs": [],
   "source": [
    "import random"
   ]
  },
  {
   "cell_type": "code",
   "execution_count": 20,
   "id": "fd7acbb9-32a5-423b-896f-32c5c2f53bd7",
   "metadata": {},
   "outputs": [],
   "source": [
    "def calculate_completion_time(schedule, execution_times, m):\n",
    "    processor_times = [0] * m \n",
    "    for task, processor in enumerate(schedule):\n",
    "        processor_times[processor] += execution_times[task][processor]\n",
    "    return max(processor_times)"
   ]
  },
  {
   "cell_type": "code",
   "execution_count": 21,
   "id": "e2775071-08ac-442d-b40a-ab0dd9131b71",
   "metadata": {},
   "outputs": [],
   "source": [
    "from itertools import product\n",
    "\n",
    "T = 4  # broj zadataka\n",
    "m = 2  # broj procesora\n",
    "\n",
    "execution_times = [\n",
    "    [3, 2],\n",
    "    [2, 1],\n",
    "    [4, 3],\n",
    "    [1, 2],  \n",
    "]"
   ]
  },
  {
   "cell_type": "code",
   "execution_count": 32,
   "id": "f11a3124-d32c-4166-8a15-6058f424ac6f",
   "metadata": {},
   "outputs": [
    {
     "name": "stdout",
     "output_type": "stream",
     "text": [
      "Optimalni raspored sa lokalnom pretragom: [0, 1, 1, 0]\n",
      "Minimalno vreme završetka: 4\n"
     ]
    }
   ],
   "source": [
    "def local_search(execution_times, m, max_iterations):    \n",
    "    n = len(execution_times)\n",
    "    schedule = [random.randint(0, m - 1) for _ in range(n)]\n",
    "    current_makespan = calculate_completion_time(schedule, execution_times, m)\n",
    "    \n",
    "    for _ in range(max_iterations):\n",
    "        new_schedule = schedule[:]\n",
    "        task = random.randint(0, n - 1) \n",
    "        new_schedule[task] = random.randint(0, m - 1) \n",
    "\n",
    "        new_makespan = calculate_completion_time(new_schedule, execution_times, m)\n",
    "        \n",
    "        if new_makespan < current_makespan:\n",
    "            schedule = new_schedule[:]\n",
    "            current_makespan = new_makespan\n",
    "\n",
    "    return schedule, current_makespan\n",
    "\n",
    "max_iterations = 1000\n",
    "best_schedule, best_makespan = local_search(execution_times, m, max_iterations)\n",
    "\n",
    "print(f\"Optimalni raspored sa lokalnom pretragom: {best_schedule}\")\n",
    "print(f\"Minimalno vreme završetka: {best_makespan}\")\n"
   ]
  }
 ],
 "metadata": {
  "kernelspec": {
   "display_name": "Python 3 (ipykernel)",
   "language": "python",
   "name": "python3"
  },
  "language_info": {
   "codemirror_mode": {
    "name": "ipython",
    "version": 3
   },
   "file_extension": ".py",
   "mimetype": "text/x-python",
   "name": "python",
   "nbconvert_exporter": "python",
   "pygments_lexer": "ipython3",
   "version": "3.10.13"
  }
 },
 "nbformat": 4,
 "nbformat_minor": 5
}
