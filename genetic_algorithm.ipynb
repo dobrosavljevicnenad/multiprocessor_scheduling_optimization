{
 "cells": [
  {
   "cell_type": "code",
   "execution_count": 1,
   "id": "bf2fe98f-99f2-42d1-96ef-0ed0e67a1ea5",
   "metadata": {},
   "outputs": [],
   "source": [
    "import random\n",
    "import numpy as np\n",
    "from copy import deepcopy\n",
    "from matplotlib import pyplot as plt"
   ]
  },
  {
   "cell_type": "code",
   "execution_count": 2,
   "id": "566f5fff-a5bb-428e-ab2b-721330886a48",
   "metadata": {},
   "outputs": [],
   "source": [
    "class Individual:\n",
    "\n",
    "    def __init__(self, T, m, execution_times):\n",
    "        self.code = [random.randint(0, m - 1) for _ in range(T)]\n",
    "        self.execution_times = execution_times\n",
    "        self.m = m\n",
    "        self.calc_fitness()\n",
    "\n",
    "    def calc_fitness(self):\n",
    "        processor_times = [0] * self.m\n",
    "        for task, processor in enumerate(self.code):\n",
    "            processor_times[processor] += self.execution_times[task][processor]\n",
    "        makespan = max(processor_times)\n",
    "        self.fitness = -makespan"
   ]
  },
  {
   "cell_type": "code",
   "execution_count": 3,
   "id": "6eaa26cf-12ef-42ea-a15c-2d6e997790de",
   "metadata": {},
   "outputs": [],
   "source": [
    "def selection(population, k): # torunament selection\n",
    "    k = min(len(population), k)\n",
    "    participants = random.sample(population, k) # izaberemo k kandidata\n",
    "    return max(participants, key=lambda x: x.fitness) # od njih vraca onog sa najvecim fitnessom\n",
    "    # na ovaj nacin GA favorizuje bolje rasporede\n",
    "\n",
    "def crossover(parent1, parent2, child1, child2):\n",
    "    breakpoint = random.randrange(1, len(parent1.code))\n",
    "    child1.code[:breakpoint] = parent1.code[:breakpoint]\n",
    "    child1.code[breakpoint:] = parent2.code[breakpoint:]\n",
    "\n",
    "    child2.code[:breakpoint] = parent2.code[:breakpoint]\n",
    "    child2.code[breakpoint:] = parent1.code[breakpoint:]\n",
    "\n",
    "def mutation(child, p):\n",
    "    #Za svaki gen u hromozomu (svaki zadatak) postoji verovatnoća p da se nasumično promeni.\n",
    "    #Pomaže GA da ne zapadne u lokalni optimum i istraži nova rešenja.\n",
    "    for i in range(len(child.code)):\n",
    "        if random.random() < p:\n",
    "            child.code[i] = random.randint(0, child.m - 1)"
   ]
  },
  {
   "cell_type": "code",
   "execution_count": 4,
   "id": "84273397-385c-4f20-a7d8-a14d81961c35",
   "metadata": {},
   "outputs": [],
   "source": [
    "def ga(T, m, execution_times, population_size, num_generations, tournament_size, mutation_prob, elitism_size):\n",
    "    assert population_size >= 2\n",
    "    population = [Individual(T, m, execution_times) for _ in range(population_size)]\n",
    "    new_population = [Individual(T, m, execution_times) for _ in range(population_size)]\n",
    "\n",
    "    if elitism_size % 2 != population_size % 2:\n",
    "        elitism_size += 1\n",
    "\n",
    "    best_fitnesses = []\n",
    "    for it in range(num_generations):\n",
    "        population.sort(key=lambda x: x.fitness, reverse=True)\n",
    "        best_fitnesses.append(-population[0].fitness)  # Append makespan (positive value)\n",
    "        new_population[:elitism_size] = deepcopy(population[:elitism_size])\n",
    "\n",
    "        for i in range(elitism_size, population_size, 2):\n",
    "            parent1 = selection(population, tournament_size) \n",
    "            tmp, parent1.fitness = parent1.fitness, float('-inf') # Znači ovde osiguravamo da roditelji nisu klonovi jedan drugog.\n",
    "            parent2 = selection(population, tournament_size)\n",
    "            parent1.fitness = tmp\n",
    "\n",
    "            # parent1 = selection(population, tournament_size) \n",
    "            # parent2 = selection(population, tournament_size)\n",
    "\n",
    "\n",
    "            crossover(parent1, parent2, new_population[i], new_population[i + 1])\n",
    "            # Kombinujemo gene od parent1 i parent2.\n",
    "\n",
    "            # Dobijamo child1 i child2 → upisuju se u new_population[i] i new_population[i+1].\n",
    "            # Primer:\n",
    "            # parent1: [0,1,0,1]\n",
    "            # parent2: [1,1,0,0]\n",
    "            # child1: [0,1,0,0]\n",
    "            # child2: [1,1,0,1]\n",
    "\n",
    "            mutation(new_population[i], mutation_prob)\n",
    "            mutation(new_population[i + 1], mutation_prob)\n",
    "\n",
    "            new_population[i].calc_fitness()\n",
    "            new_population[i + 1].calc_fitness()\n",
    "\n",
    "        population = deepcopy(new_population)\n",
    "\n",
    "    best_individual = max(population, key=lambda x: x.fitness)\n",
    "    print(f'Best makespan: {-best_individual.fitness}, Best schedule: {best_individual.code}')\n",
    "    plt.plot(best_fitnesses)\n",
    "    plt.xlabel(\"Generation\")\n",
    "    plt.ylabel(\"Best Makespan\")\n",
    "    plt.title(\"Genetic Algorithm - Task Scheduling\")\n",
    "    plt.show()"
   ]
  },
  {
   "cell_type": "code",
   "execution_count": 6,
   "id": "84b64fe8-1086-4f8b-ab9a-4e18b4437fc4",
   "metadata": {},
   "outputs": [
    {
     "name": "stdout",
     "output_type": "stream",
     "text": [
      "Best makespan: 4, Best schedule: [0, 1, 1, 0]\n"
     ]
    },
    {
     "data": {
      "image/png": "[encoded data removed]",
      "text/plain": [
       "<Figure size 640x480 with 1 Axes>"
      ]
     },
     "metadata": {},
     "output_type": "display_data"
    }
   ],
   "source": [
    "T = 4  # Number of tasks\n",
    "m = 2  # Number of processors\n",
    "execution_times = [\n",
    "    [3, 2],\n",
    "    [2, 1],\n",
    "    [4, 3],\n",
    "    [1, 2],\n",
    "]\n",
    "population_size = 20\n",
    "num_generations = 50\n",
    "tournament_size = 3\n",
    "mutation_prob = 0.1\n",
    "elitism_size = 2\n",
    "\n",
    "ga(T, m, execution_times, population_size, num_generations, tournament_size, mutation_prob, elitism_size)"
   ]
  },
  {
   "cell_type": "code",
   "execution_count": null,
   "id": "19078171-ec60-48ba-b4d7-e661cb1d04f4",
   "metadata": {},
   "outputs": [],
   "source": []
  }
 ],
 "metadata": {
  "kernelspec": {
   "display_name": "Python 3 (ipykernel)",
   "language": "python",
   "name": "python3"
  },
  "language_info": {
   "codemirror_mode": {
    "name": "ipython",
    "version": 3
   },
   "file_extension": ".py",
   "mimetype": "text/x-python",
   "name": "python",
   "nbconvert_exporter": "python",
   "pygments_lexer": "ipython3",
   "version": "3.11.0"
  }
 },
 "nbformat": 4,
 "nbformat_minor": 5
}
