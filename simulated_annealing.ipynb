{
 "cells": [
  {
   "cell_type": "code",
   "execution_count": 2,
   "id": "8b22f500-1a52-41e4-b518-69116d3abea2",
   "metadata": {},
   "outputs": [],
   "source": [
    "import random\n"
   ]
  },
  {
   "cell_type": "code",
   "execution_count": 3,
   "id": "be86f835-b609-4754-b65d-0146dc6c259f",
   "metadata": {},
   "outputs": [],
   "source": [
    "def calculate_completion_time(schedule, execution_times, m):\n",
    "    processor_times = [0] * m\n",
    "    for task, processor in enumerate(schedule):\n",
    "        processor_times[processor] += execution_times[task][processor]\n",
    "    return max(processor_times)\n"
   ]
  },
  {
   "cell_type": "code",
   "execution_count": 8,
   "id": "5165c525-6d34-4d3b-80bc-ba5a1e87a949",
   "metadata": {},
   "outputs": [],
   "source": [
    "def simulated_annealing(execution_times, m, max_iterations):\n",
    "    n = len(execution_times)\n",
    "    schedule = [random.randint(0, m - 1) for _ in range(n)]\n",
    "    current_makespan = calculate_completion_time(schedule, execution_times, m)\n",
    "    best_schedule = schedule[:]\n",
    "    best_makespan = current_makespan\n",
    "\n",
    "    for i in range(1,max_iterations):\n",
    "        new_schedule = schedule[:]\n",
    "        task = random.randint(0, n - 1)\n",
    "        new_schedule[task] = random.randint(0, m - 1)\n",
    "\n",
    "        new_makespan = calculate_completion_time(new_schedule, execution_times, m)\n",
    "        \n",
    "        if new_makespan < current_makespan:\n",
    "            schedule = new_schedule\n",
    "            current_makespan = new_makespan\n",
    "\n",
    "            if new_makespan < best_makespan:\n",
    "                best_schedule = new_schedule[:]\n",
    "                best_makespan = new_makespan\n",
    "                \n",
    "        else:\n",
    "            p = 1.0 / i ** 0.5\n",
    "            q = random.uniform(0, 1)\n",
    "            if p > q:\n",
    "                schedule = new_schedule\n",
    "                current_makespan = new_makespan\n",
    "\n",
    "    return best_schedule, best_makespan"
   ]
  },
  {
   "cell_type": "code",
   "execution_count": 15,
   "id": "a8bd384c-3a06-4921-bde5-2bc50cc79d98",
   "metadata": {},
   "outputs": [
    {
     "name": "stdout",
     "output_type": "stream",
     "text": [
      "Najbolji raspored: [0, 1, 1, 0]\n",
      "Minimalno vreme završetka: 4\n"
     ]
    }
   ],
   "source": [
    "T = 4  # broj zadataka\n",
    "m = 2  # broj procesora\n",
    "execution_times = [\n",
    "    [3, 2],\n",
    "    [2, 1],\n",
    "    [4, 3],\n",
    "    [1, 2],\n",
    "]\n",
    "\n",
    "max_iterations = 100\n",
    "\n",
    "best_schedule, best_makespan = simulated_annealing(execution_times, m, max_iterations)\n",
    "\n",
    "print(f\"Najbolji raspored: {best_schedule}\")\n",
    "print(f\"Minimalno vreme završetka: {best_makespan}\")"
   ]
  }
 ],
 "metadata": {
  "kernelspec": {
   "display_name": "Python 3 (ipykernel)",
   "language": "python",
   "name": "python3"
  },
  "language_info": {
   "codemirror_mode": {
    "name": "ipython",
    "version": 3
   },
   "file_extension": ".py",
   "mimetype": "text/x-python",
   "name": "python",
   "nbconvert_exporter": "python",
   "pygments_lexer": "ipython3",
   "version": "3.10.13"
  }
 },
 "nbformat": 4,
 "nbformat_minor": 5
}
