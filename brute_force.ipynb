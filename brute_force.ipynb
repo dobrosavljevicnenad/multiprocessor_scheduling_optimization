{
 "cells": [
  {
   "cell_type": "code",
   "execution_count": 1,
   "id": "42cd521a-19c6-4235-a0f0-12a715e66606",
   "metadata": {},
   "outputs": [
    {
     "data": {
      "text/plain": [
       "((0, 1, 1, 0), 4)"
      ]
     },
     "execution_count": 1,
     "metadata": {},
     "output_type": "execute_result"
    }
   ],
   "source": [
    "from itertools import product\n",
    "\n",
    "T = 4  # number of tasks\n",
    "m = 2  # number of processors\n",
    "\n",
    "execution_times = [\n",
    "    [3, 2],\n",
    "    [2, 1],\n",
    "    [4, 3],\n",
    "    [1, 2],  \n",
    "]\n",
    "\n",
    "def calculate_completion_time(schedule, execution_times, m):\n",
    "    processor_times = [0] * m \n",
    "    for task, processor in enumerate(schedule):\n",
    "        processor_times[processor] += execution_times[task][processor]\n",
    "    return max(processor_times)\n",
    "\n",
    "schedules = product(range(m), repeat=T) \n",
    "optimal_schedule = None\n",
    "min_completion_time = float('inf')\n",
    "\n",
    "for schedule in schedules:\n",
    "    completion_time = calculate_completion_time(schedule, execution_times, m) \n",
    "    if completion_time < min_completion_time:\n",
    "        min_completion_time = completion_time\n",
    "        optimal_schedule = schedule\n",
    "\n",
    "optimal_schedule, min_completion_time"
   ]
  },
  {
   "cell_type": "code",
   "execution_count": 2,
   "id": "18b06c38-9c31-463e-8cbd-8a4c9bb96044",
   "metadata": {},
   "outputs": [
    {
     "name": "stdout",
     "output_type": "stream",
     "text": [
      "(0, 0, 0, 0)\n",
      "(0, 0, 0, 1)\n",
      "(0, 0, 1, 0)\n",
      "(0, 0, 1, 1)\n",
      "(0, 1, 0, 0)\n",
      "(0, 1, 0, 1)\n",
      "(0, 1, 1, 0)\n",
      "(0, 1, 1, 1)\n",
      "(1, 0, 0, 0)\n",
      "(1, 0, 0, 1)\n",
      "(1, 0, 1, 0)\n",
      "(1, 0, 1, 1)\n",
      "(1, 1, 0, 0)\n",
      "(1, 1, 0, 1)\n",
      "(1, 1, 1, 0)\n",
      "(1, 1, 1, 1)\n"
     ]
    }
   ],
   "source": [
    "schedules = product(range(2), repeat=4) \n",
    "for schedule in schedules:\n",
    "    print(schedule)\n",
    "# ovde ispisujemo sve rasporede rada procesora\n",
    "# u prvom slucaju se sve izvrsava na 0-tom proceosru\n",
    "# u durogm prva 3 na 0-tom a poslednji na 1-om procesoru"
   ]
  },
  {
   "cell_type": "code",
   "execution_count": 3,
   "id": "b734d3d8-82e9-4118-aa22-035ce2ab5333",
   "metadata": {},
   "outputs": [
    {
     "name": "stdout",
     "output_type": "stream",
     "text": [
      "Raspored (0, 0, 0, 0) -> vreme = 10\n",
      "Raspored (0, 0, 0, 1) -> vreme = 9\n",
      "Raspored (0, 0, 1, 0) -> vreme = 6\n",
      "Raspored (0, 0, 1, 1) -> vreme = 5\n",
      "Raspored (0, 1, 0, 0) -> vreme = 8\n",
      "Raspored (0, 1, 0, 1) -> vreme = 7\n",
      "Raspored (0, 1, 1, 0) -> vreme = 4\n",
      "Raspored (0, 1, 1, 1) -> vreme = 6\n",
      "Raspored (1, 0, 0, 0) -> vreme = 7\n",
      "Raspored (1, 0, 0, 1) -> vreme = 6\n",
      "Raspored (1, 0, 1, 0) -> vreme = 5\n",
      "Raspored (1, 0, 1, 1) -> vreme = 7\n",
      "Raspored (1, 1, 0, 0) -> vreme = 5\n",
      "Raspored (1, 1, 0, 1) -> vreme = 5\n",
      "Raspored (1, 1, 1, 0) -> vreme = 6\n",
      "Raspored (1, 1, 1, 1) -> vreme = 8\n",
      "\n",
      "Optimalni raspored: (0, 1, 1, 0) sa vremenom: 4\n"
     ]
    }
   ],
   "source": [
    "from itertools import product\n",
    "\n",
    "T = 4  # number of tasks\n",
    "m = 2  # number of processors\n",
    "\n",
    "execution_times = [\n",
    "    [3, 2],\n",
    "    [2, 1],\n",
    "    [4, 3],\n",
    "    [1, 2],  \n",
    "]\n",
    "\n",
    "def calculate_completion_time(schedule, execution_times, m):\n",
    "    processor_times = [0] * m \n",
    "    for task, processor in enumerate(schedule):\n",
    "        processor_times[processor] += execution_times[task][processor]\n",
    "    return max(processor_times)\n",
    "\n",
    "schedules = product(range(m), repeat=T) \n",
    "\n",
    "all_results = []\n",
    "for schedule in schedules:\n",
    "    completion_time = calculate_completion_time(schedule, execution_times, m)\n",
    "    all_results.append((schedule, completion_time))\n",
    "\n",
    "# ispis svih rasporeda\n",
    "for schedule, time in all_results:\n",
    "    print(f\"Raspored {schedule} -> vreme = {time}\")\n",
    "\n",
    "# pronalazak najboljeg rasporeda\n",
    "optimal_schedule, min_time = min(all_results, key=lambda x: x[1])\n",
    "print(\"\\nOptimalni raspored:\", optimal_schedule, \"sa vremenom:\", min_time)\n"
   ]
  },
  {
   "cell_type": "code",
   "execution_count": 4,
   "id": "98dd7061-cba6-4363-86cb-0c2d2c12045a",
   "metadata": {},
   "outputs": [
    {
     "data": {
      "image/png": "[encoded data removed]",
      "text/plain": [
       "<Figure size 1200x600 with 1 Axes>"
      ]
     },
     "metadata": {},
     "output_type": "display_data"
    }
   ],
   "source": [
    "import matplotlib.pyplot as plt\n",
    "\n",
    "# svi rasporedi i vremena su već u all_results\n",
    "labels = [str(s) for s, _ in all_results]\n",
    "values = [t for _, t in all_results]\n",
    "\n",
    "plt.figure(figsize=(12, 6))\n",
    "plt.bar(range(len(all_results)), values, tick_label=labels)\n",
    "plt.xticks(rotation=90)\n",
    "plt.xlabel(\"Raspored (schedule)\")\n",
    "plt.ylabel(\"Makespan (vreme završetka)\")\n",
    "plt.title(\"Uporedni prikaz svih rasporeda\")\n",
    "plt.tight_layout()\n",
    "plt.show()\n"
   ]
  },
  {
   "cell_type": "code",
   "execution_count": null,
   "id": "9f192a47-5df0-4c05-9872-eb48027e6a69",
   "metadata": {},
   "outputs": [],
   "source": []
  }
 ],
 "metadata": {
  "kernelspec": {
   "display_name": "Python 3 (ipykernel)",
   "language": "python",
   "name": "python3"
  },
  "language_info": {
   "codemirror_mode": {
    "name": "ipython",
    "version": 3
   },
   "file_extension": ".py",
   "mimetype": "text/x-python",
   "name": "python",
   "nbconvert_exporter": "python",
   "pygments_lexer": "ipython3",
   "version": "3.11.0"
  }
 },
 "nbformat": 4,
 "nbformat_minor": 5
}
